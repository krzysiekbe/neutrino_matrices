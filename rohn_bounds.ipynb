{
 "cells": [
  {
   "cell_type": "markdown",
   "metadata": {},
   "source": [
    "# Eigenvalues of interval neutrino mixing matrices"
   ]
  },
  {
   "cell_type": "markdown",
   "metadata": {},
   "source": [
    "The following notebook presents a method of bounding eigenvalues of interval neutrino mixing matrices by Rohn criterion (https://hal.inria.fr/inria-00370603/document)."
   ]
  },
  {
   "cell_type": "markdown",
   "metadata": {},
   "source": [
    "[![Open In Colab](https://colab.research.google.com/assets/colab-badge.svg)](https://colab.research.google.com/github/wujekanimator/neutrino_matrices/blob/main/rohn_bounds.ipynb)"
   ]
  },
  {
   "cell_type": "code",
   "execution_count": 1,
   "metadata": {},
   "outputs": [],
   "source": [
    "import numpy as np\n",
    "import random\n",
    "import pandas as pd\n",
    "from tqdm import tqdm\n",
    "import matplotlib.pyplot as plt\n",
    "#tqdm().pandas()\n",
    "pd.set_option('display.max_colwidth', -1)"
   ]
  },
  {
   "cell_type": "markdown",
   "metadata": {},
   "source": [
    "Let's define an auxiliary function, that takes (symmetric matrix) intervals and generates the eigenvalues of center matrix, spectrum of a delta matrix and Rohn bounds:"
   ]
  },
  {
   "cell_type": "code",
   "execution_count": 2,
   "metadata": {},
   "outputs": [],
   "source": [
    "def interval_matrix_bounds(intervals):\n",
    "    \n",
    "    '''takes the interval matrix - intervals - and returns eigenvalues \n",
    "    of a symmetric center matrix and spectrum of a delta matrix, \n",
    "    together with intervals of allowed eigenvalues of the interval matrix'''\n",
    "    \n",
    "    dimension = int(np.sqrt(len(intervals)))\n",
    "    \n",
    "    a_c = [1/2*(interval[1]+interval[0]) for interval in intervals] # center matrix for each interval matrix\n",
    "    a_c_T = np.transpose(np.reshape(a_c, (dimension,dimension))) # transpose the center matrix\n",
    "    a_c_T = [item for sublist in a_c_T for item in sublist] # flatten nested a_c_T\n",
    "    a_c_prime = [1/2*(x1+x2) for (x1,x2) in zip(a_c, a_c_T)] # make a symmetric center matrix\n",
    "    \n",
    "    eigs_a_c_prime = np.sort(np.abs(np.linalg.eigvals(np.reshape(a_c_prime,(dimension,dimension))))) # sorted eigenvalues\n",
    "    \n",
    "    a_delta = [1/2*(interval[1]-interval[0]) for interval in intervals] # delta matrix\n",
    "    a_delta_T = np.transpose(np.reshape(a_delta, (dimension,dimension))) # transpose the delta matrix\n",
    "    a_delta_T = [item for sublist in a_delta_T for item in sublist] # flatten\n",
    "    a_delta_prime = [1/2*(x1+x2) for (x1,x2) in zip(a_delta, a_delta_T)] # symmetric delta matrix\n",
    "    \n",
    "    spec_a_delta_prime = max(np.abs(np.linalg.eigvals(np.reshape(a_delta_prime,(3,3))))) # spectral radius of a_delta_prime\n",
    "    \n",
    "    rohn_bounds = [[round(item - spec_a_delta_prime, 4), round(item + spec_a_delta_prime, 4)] for\n",
    "                       item in eigs_a_c_prime]\n",
    "    \n",
    "    return eigs_a_c_prime, spec_a_delta_prime, rohn_bounds"
   ]
  },
  {
   "cell_type": "markdown",
   "metadata": {},
   "source": [
    "Now we need the experimental mixing matrix; we use the $\\eta$-representation (https://arxiv.org/pdf/1605.08774.pdf)"
   ]
  },
  {
   "cell_type": "code",
   "execution_count": 3,
   "metadata": {},
   "outputs": [],
   "source": [
    "#intervals_eta = [[-0.0013, 0.0013], [-0.000012,0.000012], [-0.0014,0.0014],[-0.000012,0.000012], [-0.00022,0.00022], [-0.0006,0.0006],\n",
    "#                  [-0.0014,0.0014], [-0.0006,0.0006], [-0.0028,0.0028]]\n",
    "intervals_eta = [[-0.0014, 0.0014], [-0.000013,0.000013], [-0.0015,0.0015],[-0.000013,0.000013], [-0.00023,0.00023], [-0.0007,0.0007],\n",
    "                  [-0.0015,0.0015], [-0.0007,0.0007], [-0.0029,0.0029]]"
   ]
  },
  {
   "cell_type": "markdown",
   "metadata": {},
   "source": [
    "It follows that our matrix dimension will be"
   ]
  },
  {
   "cell_type": "code",
   "execution_count": 4,
   "metadata": {},
   "outputs": [],
   "source": [
    "n = int(np.sqrt(len(intervals_eta)))"
   ]
  },
  {
   "cell_type": "markdown",
   "metadata": {},
   "source": [
    "Now we define widths of intervals, that will be drawn from above - all widths are scaled to the precision of given element:"
   ]
  },
  {
   "cell_type": "code",
   "execution_count": 70,
   "metadata": {},
   "outputs": [],
   "source": [
    "interval_widths = [0.0001, 0.000001, 0.0001, 0.000001, 0.00001, 0.0001,0.0001, 0.0001, 0.0001]\n",
    "#interval_widths = [0.002, 0.00002, 0.002, 0.00002, 0.0002, 0.002,0.002, 0.002, 0.002]\n",
    "#interval_widths = [0.005, 0.00005, 0.005, 0.00005, 0.0005, 0.005,0.005, 0.005, 0.005]\n",
    "#interval_widths = [0.1, 0.001, 0.1, 0.001, 0.01, 0.1,0.1, 0.1, 0.1]"
   ]
  },
  {
   "cell_type": "markdown",
   "metadata": {},
   "source": [
    "We need to subtract ```intervals_eta``` from an identity, hence"
   ]
  },
  {
   "cell_type": "code",
   "execution_count": 71,
   "metadata": {},
   "outputs": [],
   "source": [
    "double_identity = [[item,item] for item in np.identity(n).flatten()]\n",
    "intervals_1_eta = double_identity + np.array(intervals_eta)\n",
    "intervals_1_eta = [[item[1],item[0]] for item in intervals_1_eta]"
   ]
  },
  {
   "cell_type": "code",
   "execution_count": null,
   "metadata": {},
   "outputs": [],
   "source": []
  },
  {
   "cell_type": "code",
   "execution_count": 72,
   "metadata": {},
   "outputs": [
    {
     "data": {
      "text/plain": [
       "(array([1., 1., 1.]),\n",
       " 0.003926183259609953,\n",
       " [[0.9961, 1.0039], [0.9961, 1.0039], [0.9961, 1.0039]])"
      ]
     },
     "execution_count": 72,
     "metadata": {},
     "output_type": "execute_result"
    }
   ],
   "source": [
    "interval_matrix_bounds(intervals_1_eta)"
   ]
  },
  {
   "cell_type": "markdown",
   "metadata": {},
   "source": [
    "Now we prepare lists for: 1) eigenvalues of center matrices $M_C$, 2) spectra of delta-matrices $M_{\\Delta}$, 3) allowed intervals of eigenvalues and finally 4) drawn intervals:"
   ]
  },
  {
   "cell_type": "code",
   "execution_count": 73,
   "metadata": {},
   "outputs": [],
   "source": [
    "a_c_all_eigs = []\n",
    "spectra = []\n",
    "rohn_bounds = []\n",
    "intervals = [] "
   ]
  },
  {
   "cell_type": "markdown",
   "metadata": {},
   "source": [
    "Let's decide on how many matrices will be drawn:"
   ]
  },
  {
   "cell_type": "code",
   "execution_count": 101,
   "metadata": {},
   "outputs": [],
   "source": [
    "range_i = 1000"
   ]
  },
  {
   "cell_type": "markdown",
   "metadata": {},
   "source": [
    "Now we draw ```range_i```-many interval matrices, for each matrix we calculate the eigenvalues (Rohn) bounds"
   ]
  },
  {
   "cell_type": "code",
   "execution_count": 102,
   "metadata": {},
   "outputs": [
    {
     "name": "stderr",
     "output_type": "stream",
     "text": [
      "100%|██████████| 999/999 [00:00<00:00, 1190.56it/s]\n"
     ]
    }
   ],
   "source": [
    "for i in tqdm(range(1,range_i)):\n",
    "    # first we randomly pick narrow bounds for interval matrix\n",
    "    bounds = []\n",
    "    # indices for making a symmetric interval matrix\n",
    "    indices = [0,1,2,1,3,4,2,4,5]\n",
    "    i=0\n",
    "    for item in intervals_1_eta:\n",
    "        bound = np.random.uniform(low=item[0], high=item[1])\n",
    "        bounds.append([bound, bound + interval_widths[i]])\n",
    "        i+=1\n",
    "    \n",
    "    bounds = [bounds[i] for i in indices]\n",
    "    intervals.append(bounds)\n",
    "    a_c_all_eigs.append(np.abs(interval_matrix_bounds(bounds)[0]))\n",
    "    spectra.append(interval_matrix_bounds(bounds)[1])\n",
    "    rohn_bounds.append(interval_matrix_bounds(bounds)[2])"
   ]
  },
  {
   "cell_type": "markdown",
   "metadata": {},
   "source": [
    "We form a dataframes of center matrix eigenvalues and Rohn bounds from above loop:"
   ]
  },
  {
   "cell_type": "code",
   "execution_count": 103,
   "metadata": {},
   "outputs": [],
   "source": [
    "a_c_all_eigs_df = pd.DataFrame(a_c_all_eigs, columns=['eigenvalue_1',\n",
    "                                                      'eigenvalue_2',\n",
    "                                                      'eigenvalue_3'])\n",
    "rohn_bounds_df = pd.DataFrame(rohn_bounds, columns=['interval_1',\n",
    "                                                    'interval_2',\n",
    "                                                    'interval_3'])"
   ]
  },
  {
   "cell_type": "markdown",
   "metadata": {},
   "source": [
    "Let's add also the column with an explicit matrix elements:"
   ]
  },
  {
   "cell_type": "code",
   "execution_count": 104,
   "metadata": {},
   "outputs": [
    {
     "data": {
      "text/html": [
       "<div>\n",
       "<style scoped>\n",
       "    .dataframe tbody tr th:only-of-type {\n",
       "        vertical-align: middle;\n",
       "    }\n",
       "\n",
       "    .dataframe tbody tr th {\n",
       "        vertical-align: top;\n",
       "    }\n",
       "\n",
       "    .dataframe thead th {\n",
       "        text-align: right;\n",
       "    }\n",
       "</style>\n",
       "<table border=\"1\" class=\"dataframe\">\n",
       "  <thead>\n",
       "    <tr style=\"text-align: right;\">\n",
       "      <th></th>\n",
       "      <th>interval_1</th>\n",
       "      <th>interval_2</th>\n",
       "      <th>interval_3</th>\n",
       "      <th>matrix</th>\n",
       "    </tr>\n",
       "  </thead>\n",
       "  <tbody>\n",
       "    <tr>\n",
       "      <td>0</td>\n",
       "      <td>[0.9991, 0.9993]</td>\n",
       "      <td>[1.0002, 1.0004]</td>\n",
       "      <td>[1.0004, 1.0006]</td>\n",
       "      <td>[[1.0, 1.0001], [0.0, 0.0], [-0.0009, -0.0008], [0.0, 0.0], [-0.0, -0.0], [1.0, 1.0], [-0.0009, -0.0008], [1.0, 1.0], [-0.0006, -0.0005]]</td>\n",
       "    </tr>\n",
       "    <tr>\n",
       "      <td>1</td>\n",
       "      <td>[0.9994, 0.9996]</td>\n",
       "      <td>[0.9998, 1.0]</td>\n",
       "      <td>[1.0012, 1.0014]</td>\n",
       "      <td>[[1.0005, 1.0006], [-0.0, -0.0], [-0.0013, -0.0012], [-0.0, -0.0], [-0.0, -0.0], [1.0001, 1.0001], [-0.0013, -0.0012], [1.0001, 1.0001], [0.0003, 0.0004]]</td>\n",
       "    </tr>\n",
       "    <tr>\n",
       "      <td>2</td>\n",
       "      <td>[0.9989, 0.9991]</td>\n",
       "      <td>[1.0, 1.0002]</td>\n",
       "      <td>[1.0002, 1.0004]</td>\n",
       "      <td>[[0.999, 0.9991], [-0.0, -0.0], [-0.0002, -0.0001], [-0.0, -0.0], [0.0, 0.0], [1.0002, 1.0002], [-0.0002, -0.0001], [1.0002, 1.0002], [-0.0002, -0.0001]]</td>\n",
       "    </tr>\n",
       "    <tr>\n",
       "      <td>3</td>\n",
       "      <td>[0.999, 0.9992]</td>\n",
       "      <td>[0.9995, 0.9997]</td>\n",
       "      <td>[1.0006, 1.0008]</td>\n",
       "      <td>[[0.9995, 0.9996], [0.0, 0.0], [-0.0011, -0.001], [0.0, 0.0], [-0.0, 0.0], [0.9999, 0.9999], [-0.0011, -0.001], [0.9999, 0.9999], [0.0006, 0.0007]]</td>\n",
       "    </tr>\n",
       "    <tr>\n",
       "      <td>4</td>\n",
       "      <td>[0.9994, 0.9996]</td>\n",
       "      <td>[1.0003, 1.0005]</td>\n",
       "      <td>[1.0016, 1.0018]</td>\n",
       "      <td>[[1.0012, 1.0013], [-0.0, -0.0], [0.0012, 0.0013], [-0.0, -0.0], [0.0, 0.0], [1.0002, 1.0002], [0.0012, 0.0013], [1.0002, 1.0002], [-0.0005, -0.0004]]</td>\n",
       "    </tr>\n",
       "    <tr>\n",
       "      <td>...</td>\n",
       "      <td>...</td>\n",
       "      <td>...</td>\n",
       "      <td>...</td>\n",
       "      <td>...</td>\n",
       "    </tr>\n",
       "    <tr>\n",
       "      <td>110992</td>\n",
       "      <td>[0.9996, 0.9998]</td>\n",
       "      <td>[0.9997, 0.9999]</td>\n",
       "      <td>[1.0018, 1.002]</td>\n",
       "      <td>[[1.0014, 1.0015], [0.0, 0.0], [-0.0013, -0.0012], [0.0, 0.0], [-0.0, -0.0], [1.0, 1.0], [-0.0013, -0.0012], [1.0, 1.0], [0.0004, 0.0005]]</td>\n",
       "    </tr>\n",
       "    <tr>\n",
       "      <td>110993</td>\n",
       "      <td>[0.9992, 0.9994]</td>\n",
       "      <td>[0.9999, 1.0001]</td>\n",
       "      <td>[1.0002, 1.0004]</td>\n",
       "      <td>[[1.0001, 1.0002], [-0.0, -0.0], [-0.0006, -0.0005], [-0.0, -0.0], [-0.0, -0.0], [0.9998, 0.9998], [-0.0006, -0.0005], [0.9998, 0.9998], [-0.0005, -0.0004]]</td>\n",
       "    </tr>\n",
       "    <tr>\n",
       "      <td>110994</td>\n",
       "      <td>[0.9983, 0.9985]</td>\n",
       "      <td>[0.9997, 0.9999]</td>\n",
       "      <td>[1.0, 1.0002]</td>\n",
       "      <td>[[0.9987, 0.9988], [0.0, 0.0], [0.0008, 0.0009], [0.0, 0.0], [-0.0, -0.0], [0.9998, 0.9998], [0.0008, 0.0009], [0.9998, 0.9998], [-0.0007, -0.0006]]</td>\n",
       "    </tr>\n",
       "    <tr>\n",
       "      <td>110995</td>\n",
       "      <td>[0.9994, 0.9996]</td>\n",
       "      <td>[1.0002, 1.0004]</td>\n",
       "      <td>[1.0006, 1.0008]</td>\n",
       "      <td>[[1.0001, 1.0002], [-0.0, -0.0], [-0.0009, -0.0008], [-0.0, -0.0], [-0.0, -0.0], [1.0002, 1.0002], [-0.0009, -0.0008], [1.0002, 1.0002], [-0.0003, -0.0002]]</td>\n",
       "    </tr>\n",
       "    <tr>\n",
       "      <td>110996</td>\n",
       "      <td>[0.9995, 0.9997]</td>\n",
       "      <td>[1.0, 1.0002]</td>\n",
       "      <td>[1.0011, 1.0013]</td>\n",
       "      <td>[[1.0011, 1.0012], [-0.0, -0.0], [-0.0004, -0.0003], [-0.0, -0.0], [-0.0, -0.0], [0.9999, 0.9999], [-0.0004, -0.0003], [0.9999, 0.9999], [0.0005, 0.0006]]</td>\n",
       "    </tr>\n",
       "  </tbody>\n",
       "</table>\n",
       "<p>110997 rows × 4 columns</p>\n",
       "</div>"
      ],
      "text/plain": [
       "              interval_1        interval_2        interval_3  \\\n",
       "0       [0.9991, 0.9993]  [1.0002, 1.0004]  [1.0004, 1.0006]   \n",
       "1       [0.9994, 0.9996]  [0.9998, 1.0]     [1.0012, 1.0014]   \n",
       "2       [0.9989, 0.9991]  [1.0, 1.0002]     [1.0002, 1.0004]   \n",
       "3       [0.999, 0.9992]   [0.9995, 0.9997]  [1.0006, 1.0008]   \n",
       "4       [0.9994, 0.9996]  [1.0003, 1.0005]  [1.0016, 1.0018]   \n",
       "...                  ...               ...               ...   \n",
       "110992  [0.9996, 0.9998]  [0.9997, 0.9999]  [1.0018, 1.002]    \n",
       "110993  [0.9992, 0.9994]  [0.9999, 1.0001]  [1.0002, 1.0004]   \n",
       "110994  [0.9983, 0.9985]  [0.9997, 0.9999]  [1.0, 1.0002]      \n",
       "110995  [0.9994, 0.9996]  [1.0002, 1.0004]  [1.0006, 1.0008]   \n",
       "110996  [0.9995, 0.9997]  [1.0, 1.0002]     [1.0011, 1.0013]   \n",
       "\n",
       "                                                                                                                                                              matrix  \n",
       "0       [[1.0, 1.0001], [0.0, 0.0], [-0.0009, -0.0008], [0.0, 0.0], [-0.0, -0.0], [1.0, 1.0], [-0.0009, -0.0008], [1.0, 1.0], [-0.0006, -0.0005]]                     \n",
       "1       [[1.0005, 1.0006], [-0.0, -0.0], [-0.0013, -0.0012], [-0.0, -0.0], [-0.0, -0.0], [1.0001, 1.0001], [-0.0013, -0.0012], [1.0001, 1.0001], [0.0003, 0.0004]]    \n",
       "2       [[0.999, 0.9991], [-0.0, -0.0], [-0.0002, -0.0001], [-0.0, -0.0], [0.0, 0.0], [1.0002, 1.0002], [-0.0002, -0.0001], [1.0002, 1.0002], [-0.0002, -0.0001]]     \n",
       "3       [[0.9995, 0.9996], [0.0, 0.0], [-0.0011, -0.001], [0.0, 0.0], [-0.0, 0.0], [0.9999, 0.9999], [-0.0011, -0.001], [0.9999, 0.9999], [0.0006, 0.0007]]           \n",
       "4       [[1.0012, 1.0013], [-0.0, -0.0], [0.0012, 0.0013], [-0.0, -0.0], [0.0, 0.0], [1.0002, 1.0002], [0.0012, 0.0013], [1.0002, 1.0002], [-0.0005, -0.0004]]        \n",
       "...                                                                                                                                                        ...        \n",
       "110992  [[1.0014, 1.0015], [0.0, 0.0], [-0.0013, -0.0012], [0.0, 0.0], [-0.0, -0.0], [1.0, 1.0], [-0.0013, -0.0012], [1.0, 1.0], [0.0004, 0.0005]]                    \n",
       "110993  [[1.0001, 1.0002], [-0.0, -0.0], [-0.0006, -0.0005], [-0.0, -0.0], [-0.0, -0.0], [0.9998, 0.9998], [-0.0006, -0.0005], [0.9998, 0.9998], [-0.0005, -0.0004]]  \n",
       "110994  [[0.9987, 0.9988], [0.0, 0.0], [0.0008, 0.0009], [0.0, 0.0], [-0.0, -0.0], [0.9998, 0.9998], [0.0008, 0.0009], [0.9998, 0.9998], [-0.0007, -0.0006]]          \n",
       "110995  [[1.0001, 1.0002], [-0.0, -0.0], [-0.0009, -0.0008], [-0.0, -0.0], [-0.0, -0.0], [1.0002, 1.0002], [-0.0009, -0.0008], [1.0002, 1.0002], [-0.0003, -0.0002]]  \n",
       "110996  [[1.0011, 1.0012], [-0.0, -0.0], [-0.0004, -0.0003], [-0.0, -0.0], [-0.0, -0.0], [0.9999, 0.9999], [-0.0004, -0.0003], [0.9999, 0.9999], [0.0005, 0.0006]]    \n",
       "\n",
       "[110997 rows x 4 columns]"
      ]
     },
     "execution_count": 104,
     "metadata": {},
     "output_type": "execute_result"
    }
   ],
   "source": [
    "rohn_bounds_df['matrix'] = [[[round(item,4) for item in item2] for item2 in item3] for item3 in intervals]\n",
    "rohn_bounds_df"
   ]
  },
  {
   "cell_type": "code",
   "execution_count": 105,
   "metadata": {},
   "outputs": [],
   "source": [
    "rohn_bounds_df[['interval_31','interval_32']] = pd.DataFrame(rohn_bounds_df.interval_3.tolist(), index= rohn_bounds_df.index)\n",
    "rohn_bounds_df[['interval_11','interval_12']] = pd.DataFrame(rohn_bounds_df.interval_1.tolist(), index= rohn_bounds_df.index)"
   ]
  },
  {
   "cell_type": "code",
   "execution_count": 106,
   "metadata": {},
   "outputs": [
    {
     "data": {
      "text/html": [
       "<div>\n",
       "<style scoped>\n",
       "    .dataframe tbody tr th:only-of-type {\n",
       "        vertical-align: middle;\n",
       "    }\n",
       "\n",
       "    .dataframe tbody tr th {\n",
       "        vertical-align: top;\n",
       "    }\n",
       "\n",
       "    .dataframe thead th {\n",
       "        text-align: right;\n",
       "    }\n",
       "</style>\n",
       "<table border=\"1\" class=\"dataframe\">\n",
       "  <thead>\n",
       "    <tr style=\"text-align: right;\">\n",
       "      <th></th>\n",
       "      <th>interval_1</th>\n",
       "      <th>interval_2</th>\n",
       "      <th>interval_3</th>\n",
       "      <th>matrix</th>\n",
       "      <th>interval_31</th>\n",
       "      <th>interval_32</th>\n",
       "      <th>interval_11</th>\n",
       "      <th>interval_12</th>\n",
       "    </tr>\n",
       "  </thead>\n",
       "  <tbody>\n",
       "  </tbody>\n",
       "</table>\n",
       "</div>"
      ],
      "text/plain": [
       "Empty DataFrame\n",
       "Columns: [interval_1, interval_2, interval_3, matrix, interval_31, interval_32, interval_11, interval_12]\n",
       "Index: []"
      ]
     },
     "execution_count": 106,
     "metadata": {},
     "output_type": "execute_result"
    }
   ],
   "source": [
    "rohn_bounds_df.loc[rohn_bounds_df['interval_31'] > 1.003]\n",
    "rohn_bounds_df.loc[rohn_bounds_df['interval_12'] < 0.998]"
   ]
  },
  {
   "cell_type": "markdown",
   "metadata": {},
   "source": [
    "We take a look at the histogram of eigenvalues of center matrices:"
   ]
  },
  {
   "cell_type": "code",
   "execution_count": 107,
   "metadata": {},
   "outputs": [
    {
     "data": {
      "text/plain": [
       "<matplotlib.axes._subplots.AxesSubplot at 0x1adb3bffa88>"
      ]
     },
     "execution_count": 107,
     "metadata": {},
     "output_type": "execute_result"
    },
    {
     "data": {
      "image/png": "[encoded data removed]",
      "text/plain": [
       "<Figure size 432x288 with 1 Axes>"
      ]
     },
     "metadata": {
      "needs_background": "light"
     },
     "output_type": "display_data"
    }
   ],
   "source": [
    "a_c_all_eigs_df.plot.kde()\n",
    "#plt.savefig('kde5.pdf')"
   ]
  },
  {
   "cell_type": "markdown",
   "metadata": {},
   "source": [
    "Next we check the scenarios.\n",
    "* find non-contractions"
   ]
  },
  {
   "cell_type": "code",
   "execution_count": 110,
   "metadata": {},
   "outputs": [
    {
     "data": {
      "text/html": [
       "<div>\n",
       "<style scoped>\n",
       "    .dataframe tbody tr th:only-of-type {\n",
       "        vertical-align: middle;\n",
       "    }\n",
       "\n",
       "    .dataframe tbody tr th {\n",
       "        vertical-align: top;\n",
       "    }\n",
       "\n",
       "    .dataframe thead th {\n",
       "        text-align: right;\n",
       "    }\n",
       "</style>\n",
       "<table border=\"1\" class=\"dataframe\">\n",
       "  <thead>\n",
       "    <tr style=\"text-align: right;\">\n",
       "      <th></th>\n",
       "      <th>eigenvalue_1</th>\n",
       "      <th>eigenvalue_2</th>\n",
       "      <th>eigenvalue_3</th>\n",
       "    </tr>\n",
       "  </thead>\n",
       "  <tbody>\n",
       "    <tr>\n",
       "      <td>0</td>\n",
       "      <td>0.999233</td>\n",
       "      <td>1.000260</td>\n",
       "      <td>1.000466</td>\n",
       "    </tr>\n",
       "    <tr>\n",
       "      <td>1</td>\n",
       "      <td>0.999479</td>\n",
       "      <td>0.999895</td>\n",
       "      <td>1.001314</td>\n",
       "    </tr>\n",
       "    <tr>\n",
       "      <td>2</td>\n",
       "      <td>0.999036</td>\n",
       "      <td>1.000096</td>\n",
       "      <td>1.000275</td>\n",
       "    </tr>\n",
       "    <tr>\n",
       "      <td>3</td>\n",
       "      <td>0.999064</td>\n",
       "      <td>0.999567</td>\n",
       "      <td>1.000651</td>\n",
       "    </tr>\n",
       "    <tr>\n",
       "      <td>4</td>\n",
       "      <td>0.999536</td>\n",
       "      <td>1.000423</td>\n",
       "      <td>1.001657</td>\n",
       "    </tr>\n",
       "    <tr>\n",
       "      <td>...</td>\n",
       "      <td>...</td>\n",
       "      <td>...</td>\n",
       "      <td>...</td>\n",
       "    </tr>\n",
       "    <tr>\n",
       "      <td>110992</td>\n",
       "      <td>0.999708</td>\n",
       "      <td>0.999750</td>\n",
       "      <td>1.001921</td>\n",
       "    </tr>\n",
       "    <tr>\n",
       "      <td>110993</td>\n",
       "      <td>0.999333</td>\n",
       "      <td>1.000015</td>\n",
       "      <td>1.000330</td>\n",
       "    </tr>\n",
       "    <tr>\n",
       "      <td>110994</td>\n",
       "      <td>0.998368</td>\n",
       "      <td>0.999825</td>\n",
       "      <td>1.000132</td>\n",
       "    </tr>\n",
       "    <tr>\n",
       "      <td>110995</td>\n",
       "      <td>0.999465</td>\n",
       "      <td>1.000278</td>\n",
       "      <td>1.000722</td>\n",
       "    </tr>\n",
       "    <tr>\n",
       "      <td>110996</td>\n",
       "      <td>0.999621</td>\n",
       "      <td>1.000121</td>\n",
       "      <td>1.001180</td>\n",
       "    </tr>\n",
       "  </tbody>\n",
       "</table>\n",
       "<p>110997 rows × 3 columns</p>\n",
       "</div>"
      ],
      "text/plain": [
       "        eigenvalue_1  eigenvalue_2  eigenvalue_3\n",
       "0       0.999233      1.000260      1.000466    \n",
       "1       0.999479      0.999895      1.001314    \n",
       "2       0.999036      1.000096      1.000275    \n",
       "3       0.999064      0.999567      1.000651    \n",
       "4       0.999536      1.000423      1.001657    \n",
       "...          ...           ...           ...    \n",
       "110992  0.999708      0.999750      1.001921    \n",
       "110993  0.999333      1.000015      1.000330    \n",
       "110994  0.998368      0.999825      1.000132    \n",
       "110995  0.999465      1.000278      1.000722    \n",
       "110996  0.999621      1.000121      1.001180    \n",
       "\n",
       "[110997 rows x 3 columns]"
      ]
     },
     "execution_count": 110,
     "metadata": {},
     "output_type": "execute_result"
    }
   ],
   "source": [
    "a_c_all_eigs_df"
   ]
  },
  {
   "cell_type": "code",
   "execution_count": 119,
   "metadata": {},
   "outputs": [
    {
     "data": {
      "text/html": [
       "        <script type=\"text/javascript\">\n",
       "        window.PlotlyConfig = {MathJaxConfig: 'local'};\n",
       "        if (window.MathJax) {MathJax.Hub.Config({SVG: {font: \"STIX-Web\"}});}\n",
       "        if (typeof require !== 'undefined') {\n",
       "        require.undef(\"plotly\");\n",
       "        requirejs.config({\n",
       "            paths: {\n",
       "                'plotly': ['https://cdn.plot.ly/plotly-latest.min']\n",
       "            }\n",
       "        });\n",
       "        require(['plotly'], function(Plotly) {\n",
       "            window._Plotly = Plotly;\n",
       "        });\n",
       "        }\n",
       "        </script>\n",
       "        "
      ]
     },
     "metadata": {},
     "output_type": "display_data"
    },
    {
     "data": {
      "application/vnd.plotly.v1+json": {
       "config": {
        "plotlyServerURL": "https://plot.ly"
       },
       "data": [],
       "layout": {
        "height": 600,
        "legend": {
         "tracegroupgap": 0
        },
        "margin": {
         "t": 60
        },
        "scene": {
         "xaxis": {
          "title": {}
         },
         "yaxis": {
          "title": {}
         },
         "zaxis": {
          "title": {}
         }
        },
        "template": {
         "data": {
          "bar": [
           {
            "error_x": {
             "color": "#2a3f5f"
            },
            "error_y": {
             "color": "#2a3f5f"
            },
            "marker": {
             "line": {
              "color": "#E5ECF6",
              "width": 0.5
             }
            },
            "type": "bar"
           }
          ],
          "barpolar": [
           {
            "marker": {
             "line": {
              "color": "#E5ECF6",
              "width": 0.5
             }
            },
            "type": "barpolar"
           }
          ],
          "carpet": [
           {
            "aaxis": {
             "endlinecolor": "#2a3f5f",
             "gridcolor": "white",
             "linecolor": "white",
             "minorgridcolor": "white",
             "startlinecolor": "#2a3f5f"
            },
            "baxis": {
             "endlinecolor": "#2a3f5f",
             "gridcolor": "white",
             "linecolor": "white",
             "minorgridcolor": "white",
             "startlinecolor": "#2a3f5f"
            },
            "type": "carpet"
           }
          ],
          "choropleth": [
           {
            "colorbar": {
             "outlinewidth": 0,
             "ticks": ""
            },
            "type": "choropleth"
           }
          ],
          "contour": [
           {
            "colorbar": {
             "outlinewidth": 0,
             "ticks": ""
            },
            "colorscale": [
             [
              0,
              "#0d0887"
             ],
             [
              0.1111111111111111,
              "#46039f"
             ],
             [
              0.2222222222222222,
              "#7201a8"
             ],
             [
              0.3333333333333333,
              "#9c179e"
             ],
             [
              0.4444444444444444,
              "#bd3786"
             ],
             [
              0.5555555555555556,
              "#d8576b"
             ],
             [
              0.6666666666666666,
              "#ed7953"
             ],
             [
              0.7777777777777778,
              "#fb9f3a"
             ],
             [
              0.8888888888888888,
              "#fdca26"
             ],
             [
              1,
              "#f0f921"
             ]
            ],
            "type": "contour"
           }
          ],
          "contourcarpet": [
           {
            "colorbar": {
             "outlinewidth": 0,
             "ticks": ""
            },
            "type": "contourcarpet"
           }
          ],
          "heatmap": [
           {
            "colorbar": {
             "outlinewidth": 0,
             "ticks": ""
            },
            "colorscale": [
             [
              0,
              "#0d0887"
             ],
             [
              0.1111111111111111,
              "#46039f"
             ],
             [
              0.2222222222222222,
              "#7201a8"
             ],
             [
              0.3333333333333333,
              "#9c179e"
             ],
             [
              0.4444444444444444,
              "#bd3786"
             ],
             [
              0.5555555555555556,
              "#d8576b"
             ],
             [
              0.6666666666666666,
              "#ed7953"
             ],
             [
              0.7777777777777778,
              "#fb9f3a"
             ],
             [
              0.8888888888888888,
              "#fdca26"
             ],
             [
              1,
              "#f0f921"
             ]
            ],
            "type": "heatmap"
           }
          ],
          "heatmapgl": [
           {
            "colorbar": {
             "outlinewidth": 0,
             "ticks": ""
            },
            "colorscale": [
             [
              0,
              "#0d0887"
             ],
             [
              0.1111111111111111,
              "#46039f"
             ],
             [
              0.2222222222222222,
              "#7201a8"
             ],
             [
              0.3333333333333333,
              "#9c179e"
             ],
             [
              0.4444444444444444,
              "#bd3786"
             ],
             [
              0.5555555555555556,
              "#d8576b"
             ],
             [
              0.6666666666666666,
              "#ed7953"
             ],
             [
              0.7777777777777778,
              "#fb9f3a"
             ],
             [
              0.8888888888888888,
              "#fdca26"
             ],
             [
              1,
              "#f0f921"
             ]
            ],
            "type": "heatmapgl"
           }
          ],
          "histogram": [
           {
            "marker": {
             "colorbar": {
              "outlinewidth": 0,
              "ticks": ""
             }
            },
            "type": "histogram"
           }
          ],
          "histogram2d": [
           {
            "colorbar": {
             "outlinewidth": 0,
             "ticks": ""
            },
            "colorscale": [
             [
              0,
              "#0d0887"
             ],
             [
              0.1111111111111111,
              "#46039f"
             ],
             [
              0.2222222222222222,
              "#7201a8"
             ],
             [
              0.3333333333333333,
              "#9c179e"
             ],
             [
              0.4444444444444444,
              "#bd3786"
             ],
             [
              0.5555555555555556,
              "#d8576b"
             ],
             [
              0.6666666666666666,
              "#ed7953"
             ],
             [
              0.7777777777777778,
              "#fb9f3a"
             ],
             [
              0.8888888888888888,
              "#fdca26"
             ],
             [
              1,
              "#f0f921"
             ]
            ],
            "type": "histogram2d"
           }
          ],
          "histogram2dcontour": [
           {
            "colorbar": {
             "outlinewidth": 0,
             "ticks": ""
            },
            "colorscale": [
             [
              0,
              "#0d0887"
             ],
             [
              0.1111111111111111,
              "#46039f"
             ],
             [
              0.2222222222222222,
              "#7201a8"
             ],
             [
              0.3333333333333333,
              "#9c179e"
             ],
             [
              0.4444444444444444,
              "#bd3786"
             ],
             [
              0.5555555555555556,
              "#d8576b"
             ],
             [
              0.6666666666666666,
              "#ed7953"
             ],
             [
              0.7777777777777778,
              "#fb9f3a"
             ],
             [
              0.8888888888888888,
              "#fdca26"
             ],
             [
              1,
              "#f0f921"
             ]
            ],
            "type": "histogram2dcontour"
           }
          ],
          "mesh3d": [
           {
            "colorbar": {
             "outlinewidth": 0,
             "ticks": ""
            },
            "type": "mesh3d"
           }
          ],
          "parcoords": [
           {
            "line": {
             "colorbar": {
              "outlinewidth": 0,
              "ticks": ""
             }
            },
            "type": "parcoords"
           }
          ],
          "pie": [
           {
            "automargin": true,
            "type": "pie"
           }
          ],
          "scatter": [
           {
            "marker": {
             "colorbar": {
              "outlinewidth": 0,
              "ticks": ""
             }
            },
            "type": "scatter"
           }
          ],
          "scatter3d": [
           {
            "line": {
             "colorbar": {
              "outlinewidth": 0,
              "ticks": ""
             }
            },
            "marker": {
             "colorbar": {
              "outlinewidth": 0,
              "ticks": ""
             }
            },
            "type": "scatter3d"
           }
          ],
          "scattercarpet": [
           {
            "marker": {
             "colorbar": {
              "outlinewidth": 0,
              "ticks": ""
             }
            },
            "type": "scattercarpet"
           }
          ],
          "scattergeo": [
           {
            "marker": {
             "colorbar": {
              "outlinewidth": 0,
              "ticks": ""
             }
            },
            "type": "scattergeo"
           }
          ],
          "scattergl": [
           {
            "marker": {
             "colorbar": {
              "outlinewidth": 0,
              "ticks": ""
             }
            },
            "type": "scattergl"
           }
          ],
          "scattermapbox": [
           {
            "marker": {
             "colorbar": {
              "outlinewidth": 0,
              "ticks": ""
             }
            },
            "type": "scattermapbox"
           }
          ],
          "scatterpolar": [
           {
            "marker": {
             "colorbar": {
              "outlinewidth": 0,
              "ticks": ""
             }
            },
            "type": "scatterpolar"
           }
          ],
          "scatterpolargl": [
           {
            "marker": {
             "colorbar": {
              "outlinewidth": 0,
              "ticks": ""
             }
            },
            "type": "scatterpolargl"
           }
          ],
          "scatterternary": [
           {
            "marker": {
             "colorbar": {
              "outlinewidth": 0,
              "ticks": ""
             }
            },
            "type": "scatterternary"
           }
          ],
          "surface": [
           {
            "colorbar": {
             "outlinewidth": 0,
             "ticks": ""
            },
            "colorscale": [
             [
              0,
              "#0d0887"
             ],
             [
              0.1111111111111111,
              "#46039f"
             ],
             [
              0.2222222222222222,
              "#7201a8"
             ],
             [
              0.3333333333333333,
              "#9c179e"
             ],
             [
              0.4444444444444444,
              "#bd3786"
             ],
             [
              0.5555555555555556,
              "#d8576b"
             ],
             [
              0.6666666666666666,
              "#ed7953"
             ],
             [
              0.7777777777777778,
              "#fb9f3a"
             ],
             [
              0.8888888888888888,
              "#fdca26"
             ],
             [
              1,
              "#f0f921"
             ]
            ],
            "type": "surface"
           }
          ],
          "table": [
           {
            "cells": {
             "fill": {
              "color": "#EBF0F8"
             },
             "line": {
              "color": "white"
             }
            },
            "header": {
             "fill": {
              "color": "#C8D4E3"
             },
             "line": {
              "color": "white"
             }
            },
            "type": "table"
           }
          ]
         },
         "layout": {
          "annotationdefaults": {
           "arrowcolor": "#2a3f5f",
           "arrowhead": 0,
           "arrowwidth": 1
          },
          "coloraxis": {
           "colorbar": {
            "outlinewidth": 0,
            "ticks": ""
           }
          },
          "colorscale": {
           "diverging": [
            [
             0,
             "#8e0152"
            ],
            [
             0.1,
             "#c51b7d"
            ],
            [
             0.2,
             "#de77ae"
            ],
            [
             0.3,
             "#f1b6da"
            ],
            [
             0.4,
             "#fde0ef"
            ],
            [
             0.5,
             "#f7f7f7"
            ],
            [
             0.6,
             "#e6f5d0"
            ],
            [
             0.7,
             "#b8e186"
            ],
            [
             0.8,
             "#7fbc41"
            ],
            [
             0.9,
             "#4d9221"
            ],
            [
             1,
             "#276419"
            ]
           ],
           "sequential": [
            [
             0,
             "#0d0887"
            ],
            [
             0.1111111111111111,
             "#46039f"
            ],
            [
             0.2222222222222222,
             "#7201a8"
            ],
            [
             0.3333333333333333,
             "#9c179e"
            ],
            [
             0.4444444444444444,
             "#bd3786"
            ],
            [
             0.5555555555555556,
             "#d8576b"
            ],
            [
             0.6666666666666666,
             "#ed7953"
            ],
            [
             0.7777777777777778,
             "#fb9f3a"
            ],
            [
             0.8888888888888888,
             "#fdca26"
            ],
            [
             1,
             "#f0f921"
            ]
           ],
           "sequentialminus": [
            [
             0,
             "#0d0887"
            ],
            [
             0.1111111111111111,
             "#46039f"
            ],
            [
             0.2222222222222222,
             "#7201a8"
            ],
            [
             0.3333333333333333,
             "#9c179e"
            ],
            [
             0.4444444444444444,
             "#bd3786"
            ],
            [
             0.5555555555555556,
             "#d8576b"
            ],
            [
             0.6666666666666666,
             "#ed7953"
            ],
            [
             0.7777777777777778,
             "#fb9f3a"
            ],
            [
             0.8888888888888888,
             "#fdca26"
            ],
            [
             1,
             "#f0f921"
            ]
           ]
          },
          "colorway": [
           "#636efa",
           "#EF553B",
           "#00cc96",
           "#ab63fa",
           "#FFA15A",
           "#19d3f3",
           "#FF6692",
           "#B6E880",
           "#FF97FF",
           "#FECB52"
          ],
          "font": {
           "color": "#2a3f5f"
          },
          "geo": {
           "bgcolor": "white",
           "lakecolor": "white",
           "landcolor": "#E5ECF6",
           "showlakes": true,
           "showland": true,
           "subunitcolor": "white"
          },
          "hoverlabel": {
           "align": "left"
          },
          "hovermode": "closest",
          "mapbox": {
           "style": "light"
          },
          "paper_bgcolor": "white",
          "plot_bgcolor": "#E5ECF6",
          "polar": {
           "angularaxis": {
            "gridcolor": "white",
            "linecolor": "white",
            "ticks": ""
           },
           "bgcolor": "#E5ECF6",
           "radialaxis": {
            "gridcolor": "white",
            "linecolor": "white",
            "ticks": ""
           }
          },
          "scene": {
           "xaxis": {
            "backgroundcolor": "#E5ECF6",
            "gridcolor": "white",
            "gridwidth": 2,
            "linecolor": "white",
            "showbackground": true,
            "ticks": "",
            "zerolinecolor": "white"
           },
           "yaxis": {
            "backgroundcolor": "#E5ECF6",
            "gridcolor": "white",
            "gridwidth": 2,
            "linecolor": "white",
            "showbackground": true,
            "ticks": "",
            "zerolinecolor": "white"
           },
           "zaxis": {
            "backgroundcolor": "#E5ECF6",
            "gridcolor": "white",
            "gridwidth": 2,
            "linecolor": "white",
            "showbackground": true,
            "ticks": "",
            "zerolinecolor": "white"
           }
          },
          "shapedefaults": {
           "line": {
            "color": "#2a3f5f"
           }
          },
          "ternary": {
           "aaxis": {
            "gridcolor": "white",
            "linecolor": "white",
            "ticks": ""
           },
           "baxis": {
            "gridcolor": "white",
            "linecolor": "white",
            "ticks": ""
           },
           "bgcolor": "#E5ECF6",
           "caxis": {
            "gridcolor": "white",
            "linecolor": "white",
            "ticks": ""
           }
          },
          "title": {
           "x": 0.05
          },
          "xaxis": {
           "automargin": true,
           "gridcolor": "white",
           "linecolor": "white",
           "ticks": "",
           "title": {
            "standoff": 15
           },
           "zerolinecolor": "white",
           "zerolinewidth": 2
          },
          "yaxis": {
           "automargin": true,
           "gridcolor": "white",
           "linecolor": "white",
           "ticks": "",
           "title": {
            "standoff": 15
           },
           "zerolinecolor": "white",
           "zerolinewidth": 2
          }
         }
        },
        "xaxis": {
         "anchor": "y",
         "domain": [
          0,
          1
         ]
        },
        "yaxis": {
         "anchor": "x",
         "domain": [
          0,
          1
         ]
        }
       }
      },
      "text/html": [
       "<div>\n",
       "        \n",
       "        \n",
       "            <div id=\"44d337d7-ff47-49a7-a4f3-5d656e817be3\" class=\"plotly-graph-div\" style=\"height:600px; width:100%;\"></div>\n",
       "            <script type=\"text/javascript\">\n",
       "                require([\"plotly\"], function(Plotly) {\n",
       "                    window.PLOTLYENV=window.PLOTLYENV || {};\n",
       "                    \n",
       "                if (document.getElementById(\"44d337d7-ff47-49a7-a4f3-5d656e817be3\")) {\n",
       "                    Plotly.newPlot(\n",
       "                        '44d337d7-ff47-49a7-a4f3-5d656e817be3',\n",
       "                        [],\n",
       "                        {\"height\": 600, \"legend\": {\"tracegroupgap\": 0}, \"margin\": {\"t\": 60}, \"scene\": {\"xaxis\": {\"title\": {}}, \"yaxis\": {\"title\": {}}, \"zaxis\": {\"title\": {}}}, \"template\": {\"data\": {\"bar\": [{\"error_x\": {\"color\": \"#2a3f5f\"}, \"error_y\": {\"color\": \"#2a3f5f\"}, \"marker\": {\"line\": {\"color\": \"#E5ECF6\", \"width\": 0.5}}, \"type\": \"bar\"}], \"barpolar\": [{\"marker\": {\"line\": {\"color\": \"#E5ECF6\", \"width\": 0.5}}, \"type\": \"barpolar\"}], \"carpet\": [{\"aaxis\": {\"endlinecolor\": \"#2a3f5f\", \"gridcolor\": \"white\", \"linecolor\": \"white\", \"minorgridcolor\": \"white\", \"startlinecolor\": \"#2a3f5f\"}, \"baxis\": {\"endlinecolor\": \"#2a3f5f\", \"gridcolor\": \"white\", \"linecolor\": \"white\", \"minorgridcolor\": \"white\", \"startlinecolor\": \"#2a3f5f\"}, \"type\": \"carpet\"}], \"choropleth\": [{\"colorbar\": {\"outlinewidth\": 0, \"ticks\": \"\"}, \"type\": \"choropleth\"}], \"contour\": [{\"colorbar\": {\"outlinewidth\": 0, \"ticks\": \"\"}, \"colorscale\": [[0.0, \"#0d0887\"], [0.1111111111111111, \"#46039f\"], [0.2222222222222222, \"#7201a8\"], [0.3333333333333333, \"#9c179e\"], [0.4444444444444444, \"#bd3786\"], [0.5555555555555556, \"#d8576b\"], [0.6666666666666666, \"#ed7953\"], [0.7777777777777778, \"#fb9f3a\"], [0.8888888888888888, \"#fdca26\"], [1.0, \"#f0f921\"]], \"type\": \"contour\"}], \"contourcarpet\": [{\"colorbar\": {\"outlinewidth\": 0, \"ticks\": \"\"}, \"type\": \"contourcarpet\"}], \"heatmap\": [{\"colorbar\": {\"outlinewidth\": 0, \"ticks\": \"\"}, \"colorscale\": [[0.0, \"#0d0887\"], [0.1111111111111111, \"#46039f\"], [0.2222222222222222, \"#7201a8\"], [0.3333333333333333, \"#9c179e\"], [0.4444444444444444, \"#bd3786\"], [0.5555555555555556, \"#d8576b\"], [0.6666666666666666, \"#ed7953\"], [0.7777777777777778, \"#fb9f3a\"], [0.8888888888888888, \"#fdca26\"], [1.0, \"#f0f921\"]], \"type\": \"heatmap\"}], \"heatmapgl\": [{\"colorbar\": {\"outlinewidth\": 0, \"ticks\": \"\"}, \"colorscale\": [[0.0, \"#0d0887\"], [0.1111111111111111, \"#46039f\"], [0.2222222222222222, \"#7201a8\"], [0.3333333333333333, \"#9c179e\"], [0.4444444444444444, \"#bd3786\"], [0.5555555555555556, \"#d8576b\"], [0.6666666666666666, \"#ed7953\"], [0.7777777777777778, \"#fb9f3a\"], [0.8888888888888888, \"#fdca26\"], [1.0, \"#f0f921\"]], \"type\": \"heatmapgl\"}], \"histogram\": [{\"marker\": {\"colorbar\": {\"outlinewidth\": 0, \"ticks\": \"\"}}, \"type\": \"histogram\"}], \"histogram2d\": [{\"colorbar\": {\"outlinewidth\": 0, \"ticks\": \"\"}, \"colorscale\": [[0.0, \"#0d0887\"], [0.1111111111111111, \"#46039f\"], [0.2222222222222222, \"#7201a8\"], [0.3333333333333333, \"#9c179e\"], [0.4444444444444444, \"#bd3786\"], [0.5555555555555556, \"#d8576b\"], [0.6666666666666666, \"#ed7953\"], [0.7777777777777778, \"#fb9f3a\"], [0.8888888888888888, \"#fdca26\"], [1.0, \"#f0f921\"]], \"type\": \"histogram2d\"}], \"histogram2dcontour\": [{\"colorbar\": {\"outlinewidth\": 0, \"ticks\": \"\"}, \"colorscale\": [[0.0, \"#0d0887\"], [0.1111111111111111, \"#46039f\"], [0.2222222222222222, \"#7201a8\"], [0.3333333333333333, \"#9c179e\"], [0.4444444444444444, \"#bd3786\"], [0.5555555555555556, \"#d8576b\"], [0.6666666666666666, \"#ed7953\"], [0.7777777777777778, \"#fb9f3a\"], [0.8888888888888888, \"#fdca26\"], [1.0, \"#f0f921\"]], \"type\": \"histogram2dcontour\"}], \"mesh3d\": [{\"colorbar\": {\"outlinewidth\": 0, \"ticks\": \"\"}, \"type\": \"mesh3d\"}], \"parcoords\": [{\"line\": {\"colorbar\": {\"outlinewidth\": 0, \"ticks\": \"\"}}, \"type\": \"parcoords\"}], \"pie\": [{\"automargin\": true, \"type\": \"pie\"}], \"scatter\": [{\"marker\": {\"colorbar\": {\"outlinewidth\": 0, \"ticks\": \"\"}}, \"type\": \"scatter\"}], \"scatter3d\": [{\"line\": {\"colorbar\": {\"outlinewidth\": 0, \"ticks\": \"\"}}, \"marker\": {\"colorbar\": {\"outlinewidth\": 0, \"ticks\": \"\"}}, \"type\": \"scatter3d\"}], \"scattercarpet\": [{\"marker\": {\"colorbar\": {\"outlinewidth\": 0, \"ticks\": \"\"}}, \"type\": \"scattercarpet\"}], \"scattergeo\": [{\"marker\": {\"colorbar\": {\"outlinewidth\": 0, \"ticks\": \"\"}}, \"type\": \"scattergeo\"}], \"scattergl\": [{\"marker\": {\"colorbar\": {\"outlinewidth\": 0, \"ticks\": \"\"}}, \"type\": \"scattergl\"}], \"scattermapbox\": [{\"marker\": {\"colorbar\": {\"outlinewidth\": 0, \"ticks\": \"\"}}, \"type\": \"scattermapbox\"}], \"scatterpolar\": [{\"marker\": {\"colorbar\": {\"outlinewidth\": 0, \"ticks\": \"\"}}, \"type\": \"scatterpolar\"}], \"scatterpolargl\": [{\"marker\": {\"colorbar\": {\"outlinewidth\": 0, \"ticks\": \"\"}}, \"type\": \"scatterpolargl\"}], \"scatterternary\": [{\"marker\": {\"colorbar\": {\"outlinewidth\": 0, \"ticks\": \"\"}}, \"type\": \"scatterternary\"}], \"surface\": [{\"colorbar\": {\"outlinewidth\": 0, \"ticks\": \"\"}, \"colorscale\": [[0.0, \"#0d0887\"], [0.1111111111111111, \"#46039f\"], [0.2222222222222222, \"#7201a8\"], [0.3333333333333333, \"#9c179e\"], [0.4444444444444444, \"#bd3786\"], [0.5555555555555556, \"#d8576b\"], [0.6666666666666666, \"#ed7953\"], [0.7777777777777778, \"#fb9f3a\"], [0.8888888888888888, \"#fdca26\"], [1.0, \"#f0f921\"]], \"type\": \"surface\"}], \"table\": [{\"cells\": {\"fill\": {\"color\": \"#EBF0F8\"}, \"line\": {\"color\": \"white\"}}, \"header\": {\"fill\": {\"color\": \"#C8D4E3\"}, \"line\": {\"color\": \"white\"}}, \"type\": \"table\"}]}, \"layout\": {\"annotationdefaults\": {\"arrowcolor\": \"#2a3f5f\", \"arrowhead\": 0, \"arrowwidth\": 1}, \"coloraxis\": {\"colorbar\": {\"outlinewidth\": 0, \"ticks\": \"\"}}, \"colorscale\": {\"diverging\": [[0, \"#8e0152\"], [0.1, \"#c51b7d\"], [0.2, \"#de77ae\"], [0.3, \"#f1b6da\"], [0.4, \"#fde0ef\"], [0.5, \"#f7f7f7\"], [0.6, \"#e6f5d0\"], [0.7, \"#b8e186\"], [0.8, \"#7fbc41\"], [0.9, \"#4d9221\"], [1, \"#276419\"]], \"sequential\": [[0.0, \"#0d0887\"], [0.1111111111111111, \"#46039f\"], [0.2222222222222222, \"#7201a8\"], [0.3333333333333333, \"#9c179e\"], [0.4444444444444444, \"#bd3786\"], [0.5555555555555556, \"#d8576b\"], [0.6666666666666666, \"#ed7953\"], [0.7777777777777778, \"#fb9f3a\"], [0.8888888888888888, \"#fdca26\"], [1.0, \"#f0f921\"]], \"sequentialminus\": [[0.0, \"#0d0887\"], [0.1111111111111111, \"#46039f\"], [0.2222222222222222, \"#7201a8\"], [0.3333333333333333, \"#9c179e\"], [0.4444444444444444, \"#bd3786\"], [0.5555555555555556, \"#d8576b\"], [0.6666666666666666, \"#ed7953\"], [0.7777777777777778, \"#fb9f3a\"], [0.8888888888888888, \"#fdca26\"], [1.0, \"#f0f921\"]]}, \"colorway\": [\"#636efa\", \"#EF553B\", \"#00cc96\", \"#ab63fa\", \"#FFA15A\", \"#19d3f3\", \"#FF6692\", \"#B6E880\", \"#FF97FF\", \"#FECB52\"], \"font\": {\"color\": \"#2a3f5f\"}, \"geo\": {\"bgcolor\": \"white\", \"lakecolor\": \"white\", \"landcolor\": \"#E5ECF6\", \"showlakes\": true, \"showland\": true, \"subunitcolor\": \"white\"}, \"hoverlabel\": {\"align\": \"left\"}, \"hovermode\": \"closest\", \"mapbox\": {\"style\": \"light\"}, \"paper_bgcolor\": \"white\", \"plot_bgcolor\": \"#E5ECF6\", \"polar\": {\"angularaxis\": {\"gridcolor\": \"white\", \"linecolor\": \"white\", \"ticks\": \"\"}, \"bgcolor\": \"#E5ECF6\", \"radialaxis\": {\"gridcolor\": \"white\", \"linecolor\": \"white\", \"ticks\": \"\"}}, \"scene\": {\"xaxis\": {\"backgroundcolor\": \"#E5ECF6\", \"gridcolor\": \"white\", \"gridwidth\": 2, \"linecolor\": \"white\", \"showbackground\": true, \"ticks\": \"\", \"zerolinecolor\": \"white\"}, \"yaxis\": {\"backgroundcolor\": \"#E5ECF6\", \"gridcolor\": \"white\", \"gridwidth\": 2, \"linecolor\": \"white\", \"showbackground\": true, \"ticks\": \"\", \"zerolinecolor\": \"white\"}, \"zaxis\": {\"backgroundcolor\": \"#E5ECF6\", \"gridcolor\": \"white\", \"gridwidth\": 2, \"linecolor\": \"white\", \"showbackground\": true, \"ticks\": \"\", \"zerolinecolor\": \"white\"}}, \"shapedefaults\": {\"line\": {\"color\": \"#2a3f5f\"}}, \"ternary\": {\"aaxis\": {\"gridcolor\": \"white\", \"linecolor\": \"white\", \"ticks\": \"\"}, \"baxis\": {\"gridcolor\": \"white\", \"linecolor\": \"white\", \"ticks\": \"\"}, \"bgcolor\": \"#E5ECF6\", \"caxis\": {\"gridcolor\": \"white\", \"linecolor\": \"white\", \"ticks\": \"\"}}, \"title\": {\"x\": 0.05}, \"xaxis\": {\"automargin\": true, \"gridcolor\": \"white\", \"linecolor\": \"white\", \"ticks\": \"\", \"title\": {\"standoff\": 15}, \"zerolinecolor\": \"white\", \"zerolinewidth\": 2}, \"yaxis\": {\"automargin\": true, \"gridcolor\": \"white\", \"linecolor\": \"white\", \"ticks\": \"\", \"title\": {\"standoff\": 15}, \"zerolinecolor\": \"white\", \"zerolinewidth\": 2}}}, \"xaxis\": {\"anchor\": \"y\", \"domain\": [0.0, 1.0]}, \"yaxis\": {\"anchor\": \"x\", \"domain\": [0.0, 1.0]}},\n",
       "                        {\"responsive\": true}\n",
       "                    ).then(function(){\n",
       "                            \n",
       "var gd = document.getElementById('44d337d7-ff47-49a7-a4f3-5d656e817be3');\n",
       "var x = new MutationObserver(function (mutations, observer) {{\n",
       "        var display = window.getComputedStyle(gd).display;\n",
       "        if (!display || display === 'none') {{\n",
       "            console.log([gd, 'removed!']);\n",
       "            Plotly.purge(gd);\n",
       "            observer.disconnect();\n",
       "        }}\n",
       "}});\n",
       "\n",
       "// Listen for the removal of the full notebook cells\n",
       "var notebookContainer = gd.closest('#notebook-container');\n",
       "if (notebookContainer) {{\n",
       "    x.observe(notebookContainer, {childList: true});\n",
       "}}\n",
       "\n",
       "// Listen for the clearing of the current output cell\n",
       "var outputEl = gd.closest('.output');\n",
       "if (outputEl) {{\n",
       "    x.observe(outputEl, {childList: true});\n",
       "}}\n",
       "\n",
       "                        })\n",
       "                };\n",
       "                });\n",
       "            </script>\n",
       "        </div>"
      ]
     },
     "metadata": {},
     "output_type": "display_data"
    }
   ],
   "source": [
    "import plotly\n",
    "plotly.offline.init_notebook_mode(connected=True)\n",
    "fig = plotly.express.scatter_3d(a_c_all_eigs_df)\n",
    "fig.show()"
   ]
  }
 ],
 "metadata": {
  "kernelspec": {
   "display_name": "Python 3",
   "language": "python",
   "name": "python3"
  },
  "language_info": {
   "codemirror_mode": {
    "name": "ipython",
    "version": 3
   },
   "file_extension": ".py",
   "mimetype": "text/x-python",
   "name": "python",
   "nbconvert_exporter": "python",
   "pygments_lexer": "ipython3",
   "version": "3.7.4"
  }
 },
 "nbformat": 4,
 "nbformat_minor": 4
}
