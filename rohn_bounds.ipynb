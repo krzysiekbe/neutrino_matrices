{
 "cells": [
  {
   "cell_type": "markdown",
   "metadata": {},
   "source": [
    "# Eigenvalues of interval neutrino mixing matrices"
   ]
  },
  {
   "cell_type": "markdown",
   "metadata": {},
   "source": [
    "The following notebook presents a method of bounding eigenvalues of interval neutrino mixing matrices by Rohn criterion (https://hal.inria.fr/inria-00370603/document)."
   ]
  },
  {
   "cell_type": "markdown",
   "metadata": {},
   "source": [
    "[![Open In Colab](https://colab.research.google.com/assets/colab-badge.svg)](https://github.com/wujekanimator/neutrino_matrices/blob/main/rohn_bounds.ipynb)"
   ]
  },
  {
   "cell_type": "code",
   "execution_count": 57,
   "metadata": {},
   "outputs": [],
   "source": [
    "import numpy as np\n",
    "import random\n",
    "import pandas as pd\n",
    "from tqdm import tqdm\n",
    "import matplotlib.pyplot as plt\n",
    "#tqdm().pandas()\n",
    "pd.set_option('display.max_colwidth', -1)"
   ]
  },
  {
   "cell_type": "markdown",
   "metadata": {},
   "source": [
    "Let's define an auxiliary function, that takes (symmetric matrix) intervals and generates the eigenvalues of center matrix, spectrum of a delta matrix and Rohn bounds:"
   ]
  },
  {
   "cell_type": "code",
   "execution_count": 41,
   "metadata": {},
   "outputs": [],
   "source": [
    "def interval_matrix_bounds(intervals):\n",
    "    \n",
    "    '''takes the interval matrix - intervals - and returns eigenvalues \n",
    "    of a symmetric center matrix and spectrum of a delta matrix, \n",
    "    together with intervals of allowed eigenvalues of the interval matrix'''\n",
    "    \n",
    "    dimension = int(np.sqrt(len(intervals)))\n",
    "    \n",
    "    a_c = [1/2*(interval[1]+interval[0]) for interval in intervals] # center matrix for each interval matrix\n",
    "    a_c_T = np.transpose(np.reshape(a_c, (dimension,dimension))) # transpose the center matrix\n",
    "    a_c_T = [item for sublist in a_c_T for item in sublist] # flatten nested a_c_T\n",
    "    a_c_prime = [1/2*(x1+x2) for (x1,x2) in zip(a_c, a_c_T)] # make a symmetric center matrix\n",
    "    \n",
    "    eigs_a_c_prime = np.sort(np.abs(np.linalg.eigvals(np.reshape(a_c_prime,(dimension,dimension))))) # sorted eigenvalues\n",
    "    \n",
    "    a_delta = [1/2*(interval[1]-interval[0]) for interval in intervals] # delta matrix\n",
    "    a_delta_T = np.transpose(np.reshape(a_delta, (dimension,dimension))) # transpose the delta matrix\n",
    "    a_delta_T = [item for sublist in a_delta_T for item in sublist] # flatten\n",
    "    a_delta_prime = [1/2*(x1+x2) for (x1,x2) in zip(a_delta, a_delta_T)] # symmetric delta matrix\n",
    "    \n",
    "    spec_a_delta_prime = max(np.abs(np.linalg.eigvals(np.reshape(a_delta_prime,(3,3))))) # spectral radius of a_delta_prime\n",
    "    \n",
    "    rohn_bounds = [[round(item - spec_a_delta_prime, 4), round(item + spec_a_delta_prime, 4)] for\n",
    "                       item in eigs_a_c_prime]\n",
    "    \n",
    "    return eigs_a_c_prime, spec_a_delta_prime, rohn_bounds"
   ]
  },
  {
   "cell_type": "markdown",
   "metadata": {},
   "source": [
    "Now we need the experimental mixing matrix; we use the $\\eta$-representation (https://arxiv.org/pdf/1605.08774.pdf)"
   ]
  },
  {
   "cell_type": "code",
   "execution_count": 42,
   "metadata": {},
   "outputs": [],
   "source": [
    "#intervals_eta = [[-0.0013, 0.0013], [-0.000012,0.000012], [-0.0014,0.0014],[-0.000012,0.000012], [-0.00022,0.00022], [-0.0006,0.0006],\n",
    "#                  [-0.0014,0.0014], [-0.0006,0.0006], [-0.0028,0.0028]]\n",
    "intervals_eta = [[-0.0014, 0.0014], [-0.000013,0.000013], [-0.0015,0.0015],[-0.000013,0.000013], [-0.00023,0.00023], [-0.0007,0.0007],\n",
    "                  [-0.0015,0.0015], [-0.0007,0.0007], [-0.0029,0.0029]]"
   ]
  },
  {
   "cell_type": "markdown",
   "metadata": {},
   "source": [
    "It follows that our matrix dimension will be"
   ]
  },
  {
   "cell_type": "code",
   "execution_count": 43,
   "metadata": {},
   "outputs": [],
   "source": [
    "n = int(np.sqrt(len(intervals_eta)))"
   ]
  },
  {
   "cell_type": "markdown",
   "metadata": {},
   "source": [
    "Now we define widths of intervals, that will be drawn from above - all widths are scaled to the precision of given element:"
   ]
  },
  {
   "cell_type": "code",
   "execution_count": 44,
   "metadata": {},
   "outputs": [],
   "source": [
    "interval_widths = [0.0001, 0.000001, 0.0001, 0.000001, 0.00001, 0.0001,0.0001, 0.0001, 0.0001]"
   ]
  },
  {
   "cell_type": "markdown",
   "metadata": {},
   "source": [
    "We need to subtract ```intervals_eta``` from an identity, hence"
   ]
  },
  {
   "cell_type": "code",
   "execution_count": 45,
   "metadata": {},
   "outputs": [],
   "source": [
    "double_identity = [[item,item] for item in np.identity(n).flatten()]\n",
    "intervals_1_eta = double_identity + np.array(intervals_eta)\n",
    "intervals_1_eta = [[item[1],item[0]] for item in intervals_1_eta]"
   ]
  },
  {
   "cell_type": "markdown",
   "metadata": {},
   "source": [
    "Now we prepare lists for: 1) eigenvalues of center matrices $M_C$, 2) spectra of delta-matrices $M_{\\Delta}$, 3) allowed intervals of eigenvalues and finally 4) drawn intervals:"
   ]
  },
  {
   "cell_type": "code",
   "execution_count": 46,
   "metadata": {},
   "outputs": [],
   "source": [
    "a_c_all_eigs = []\n",
    "spectra = []\n",
    "rohn_bounds = []\n",
    "intervals = [] "
   ]
  },
  {
   "cell_type": "markdown",
   "metadata": {},
   "source": [
    "Let's decide on how many matrices will be drawn:"
   ]
  },
  {
   "cell_type": "code",
   "execution_count": 60,
   "metadata": {},
   "outputs": [],
   "source": [
    "range_i = 10000"
   ]
  },
  {
   "cell_type": "markdown",
   "metadata": {},
   "source": [
    "Now we draw ```range_i```-many interval matrices, for each matrix we calculate the eigenvalues (Rohn) bounds"
   ]
  },
  {
   "cell_type": "code",
   "execution_count": 61,
   "metadata": {},
   "outputs": [
    {
     "name": "stderr",
     "output_type": "stream",
     "text": [
      "100%|██████████| 9999/9999 [00:17<00:00, 556.94it/s]\n"
     ]
    }
   ],
   "source": [
    "for i in tqdm(range(1,range_i)):\n",
    "    # first we randomly pick narrow bounds for interval matrix\n",
    "    bounds = []\n",
    "    # indices for making a symmetric interval matrix\n",
    "    indices = [0,1,2,1,3,4,2,4,5]\n",
    "    i=0\n",
    "    for item in intervals_1_eta:\n",
    "        bound = np.random.uniform(low=item[0], high=item[1])\n",
    "        bounds.append([bound, bound + interval_widths[i]])\n",
    "        i+=1\n",
    "    \n",
    "    bounds = [bounds[i] for i in indices]\n",
    "    intervals.append(bounds)\n",
    "    a_c_all_eigs.append(np.abs(interval_matrix_bounds(bounds)[0]))\n",
    "    spectra.append(interval_matrix_bounds(bounds)[1])\n",
    "    rohn_bounds.append(interval_matrix_bounds(bounds)[2])"
   ]
  },
  {
   "cell_type": "markdown",
   "metadata": {},
   "source": [
    "We form a dataframes of center matrix eigenvalues and Rohn bounds from above loop:"
   ]
  },
  {
   "cell_type": "code",
   "execution_count": 62,
   "metadata": {},
   "outputs": [],
   "source": [
    "a_c_all_eigs_df = pd.DataFrame(a_c_all_eigs, columns=['eigenvalue_1',\n",
    "                                                      'eigenvalue_2',\n",
    "                                                      'eigenvalue_3'])\n",
    "rohn_bounds_df = pd.DataFrame(rohn_bounds, columns=['interval_1',\n",
    "                                                    'interval_2',\n",
    "                                                    'interval_3'])"
   ]
  },
  {
   "cell_type": "markdown",
   "metadata": {},
   "source": [
    "Let's add also the column with an explicit matrix elements:"
   ]
  },
  {
   "cell_type": "code",
   "execution_count": 63,
   "metadata": {},
   "outputs": [
    {
     "data": {
      "text/html": [
       "<div>\n",
       "<style scoped>\n",
       "    .dataframe tbody tr th:only-of-type {\n",
       "        vertical-align: middle;\n",
       "    }\n",
       "\n",
       "    .dataframe tbody tr th {\n",
       "        vertical-align: top;\n",
       "    }\n",
       "\n",
       "    .dataframe thead th {\n",
       "        text-align: right;\n",
       "    }\n",
       "</style>\n",
       "<table border=\"1\" class=\"dataframe\">\n",
       "  <thead>\n",
       "    <tr style=\"text-align: right;\">\n",
       "      <th></th>\n",
       "      <th>interval_1</th>\n",
       "      <th>interval_2</th>\n",
       "      <th>interval_3</th>\n",
       "      <th>matrix</th>\n",
       "    </tr>\n",
       "  </thead>\n",
       "  <tbody>\n",
       "    <tr>\n",
       "      <td>0</td>\n",
       "      <td>[0.9988, 0.999]</td>\n",
       "      <td>[1.0001, 1.0003]</td>\n",
       "      <td>[1.0002, 1.0004]</td>\n",
       "      <td>[[0.9994, 0.9995], [-0.0, -0.0], [0.0009, 0.001], [-0.0, -0.0], [-0.0, -0.0], [1.0, 1.0], [0.0009, 0.001], [1.0, 1.0], [-0.0007, -0.0006]]</td>\n",
       "    </tr>\n",
       "    <tr>\n",
       "      <td>1</td>\n",
       "      <td>[0.9996, 0.9998]</td>\n",
       "      <td>[1.0003, 1.0005]</td>\n",
       "      <td>[1.0009, 1.0011]</td>\n",
       "      <td>[[1.0008, 1.0009], [0.0, 0.0], [-0.0005, -0.0004], [0.0, 0.0], [-0.0, -0.0], [1.0001, 1.0001], [-0.0005, -0.0004], [1.0001, 1.0001], [-0.0007, -0.0006]]</td>\n",
       "    </tr>\n",
       "    <tr>\n",
       "      <td>2</td>\n",
       "      <td>[0.9997, 0.9999]</td>\n",
       "      <td>[0.9998, 1.0]</td>\n",
       "      <td>[1.0004, 1.0006]</td>\n",
       "      <td>[[1.0004, 1.0005], [0.0, 0.0], [-0.0001, -0.0], [0.0, 0.0], [0.0, 0.0], [0.9998, 0.9998], [-0.0001, -0.0], [0.9998, 0.9998], [0.0001, 0.0002]]</td>\n",
       "    </tr>\n",
       "    <tr>\n",
       "      <td>3</td>\n",
       "      <td>[0.9998, 1.0]</td>\n",
       "      <td>[1.0002, 1.0004]</td>\n",
       "      <td>[1.0013, 1.0015]</td>\n",
       "      <td>[[1.0013, 1.0014], [-0.0, -0.0], [0.0003, 0.0004], [-0.0, -0.0], [0.0, 0.0], [1.0001, 1.0001], [0.0003, 0.0004], [1.0001, 1.0001], [0.0004, 0.0005]]</td>\n",
       "    </tr>\n",
       "    <tr>\n",
       "      <td>4</td>\n",
       "      <td>[0.9994, 0.9996]</td>\n",
       "      <td>[0.9998, 1.0]</td>\n",
       "      <td>[1.0001, 1.0003]</td>\n",
       "      <td>[[0.9995, 0.9996], [-0.0, -0.0], [-0.0003, -0.0002], [-0.0, -0.0], [0.0, 0.0], [1.0, 1.0], [-0.0003, -0.0002], [1.0, 1.0], [0.0002, 0.0003]]</td>\n",
       "    </tr>\n",
       "    <tr>\n",
       "      <td>...</td>\n",
       "      <td>...</td>\n",
       "      <td>...</td>\n",
       "      <td>...</td>\n",
       "      <td>...</td>\n",
       "    </tr>\n",
       "    <tr>\n",
       "      <td>10993</td>\n",
       "      <td>[0.9997, 0.9999]</td>\n",
       "      <td>[1.0, 1.0002]</td>\n",
       "      <td>[1.0008, 1.001]</td>\n",
       "      <td>[[1.0005, 1.0006], [-0.0, -0.0], [0.0007, 0.0008], [-0.0, -0.0], [0.0, 0.0], [1.0002, 1.0002], [0.0007, 0.0008], [1.0002, 1.0002], [0.0001, 0.0002]]</td>\n",
       "    </tr>\n",
       "    <tr>\n",
       "      <td>10994</td>\n",
       "      <td>[0.9995, 0.9997]</td>\n",
       "      <td>[0.9999, 1.0001]</td>\n",
       "      <td>[1.0001, 1.0003]</td>\n",
       "      <td>[[0.9995, 0.9996], [-0.0, -0.0], [-0.0001, 0.0], [-0.0, -0.0], [-0.0, -0.0], [1.0001, 1.0001], [-0.0001, 0.0], [1.0001, 1.0001], [0.0002, 0.0003]]</td>\n",
       "    </tr>\n",
       "    <tr>\n",
       "      <td>10995</td>\n",
       "      <td>[0.9989, 0.9991]</td>\n",
       "      <td>[0.9997, 0.9999]</td>\n",
       "      <td>[1.0, 1.0002]</td>\n",
       "      <td>[[0.9991, 0.9992], [0.0, 0.0], [-0.0005, -0.0004], [0.0, 0.0], [0.0, 0.0], [0.9999, 0.9999], [-0.0005, -0.0004], [0.9999, 0.9999], [-0.0004, -0.0003]]</td>\n",
       "    </tr>\n",
       "    <tr>\n",
       "      <td>10996</td>\n",
       "      <td>[0.9991, 0.9993]</td>\n",
       "      <td>[1.0001, 1.0003]</td>\n",
       "      <td>[1.0006, 1.0008]</td>\n",
       "      <td>[[1.0, 1.0001], [-0.0, -0.0], [-0.0011, -0.001], [-0.0, -0.0], [-0.0, -0.0], [1.0, 1.0], [-0.0011, -0.001], [1.0, 1.0], [-0.0004, -0.0003]]</td>\n",
       "    </tr>\n",
       "    <tr>\n",
       "      <td>10997</td>\n",
       "      <td>[0.9993, 0.9995]</td>\n",
       "      <td>[0.9995, 0.9997]</td>\n",
       "      <td>[1.0013, 1.0015]</td>\n",
       "      <td>[[1.0006, 1.0007], [-0.0, -0.0], [0.0013, 0.0014], [-0.0, -0.0], [-0.0, -0.0], [0.9998, 0.9998], [0.0013, 0.0014], [0.9998, 0.9998], [0.0005, 0.0006]]</td>\n",
       "    </tr>\n",
       "  </tbody>\n",
       "</table>\n",
       "<p>10998 rows × 4 columns</p>\n",
       "</div>"
      ],
      "text/plain": [
       "             interval_1        interval_2        interval_3  \\\n",
       "0      [0.9988, 0.999]   [1.0001, 1.0003]  [1.0002, 1.0004]   \n",
       "1      [0.9996, 0.9998]  [1.0003, 1.0005]  [1.0009, 1.0011]   \n",
       "2      [0.9997, 0.9999]  [0.9998, 1.0]     [1.0004, 1.0006]   \n",
       "3      [0.9998, 1.0]     [1.0002, 1.0004]  [1.0013, 1.0015]   \n",
       "4      [0.9994, 0.9996]  [0.9998, 1.0]     [1.0001, 1.0003]   \n",
       "...                 ...            ...                  ...   \n",
       "10993  [0.9997, 0.9999]  [1.0, 1.0002]     [1.0008, 1.001]    \n",
       "10994  [0.9995, 0.9997]  [0.9999, 1.0001]  [1.0001, 1.0003]   \n",
       "10995  [0.9989, 0.9991]  [0.9997, 0.9999]  [1.0, 1.0002]      \n",
       "10996  [0.9991, 0.9993]  [1.0001, 1.0003]  [1.0006, 1.0008]   \n",
       "10997  [0.9993, 0.9995]  [0.9995, 0.9997]  [1.0013, 1.0015]   \n",
       "\n",
       "                                                                                                                                                         matrix  \n",
       "0      [[0.9994, 0.9995], [-0.0, -0.0], [0.0009, 0.001], [-0.0, -0.0], [-0.0, -0.0], [1.0, 1.0], [0.0009, 0.001], [1.0, 1.0], [-0.0007, -0.0006]]                \n",
       "1      [[1.0008, 1.0009], [0.0, 0.0], [-0.0005, -0.0004], [0.0, 0.0], [-0.0, -0.0], [1.0001, 1.0001], [-0.0005, -0.0004], [1.0001, 1.0001], [-0.0007, -0.0006]]  \n",
       "2      [[1.0004, 1.0005], [0.0, 0.0], [-0.0001, -0.0], [0.0, 0.0], [0.0, 0.0], [0.9998, 0.9998], [-0.0001, -0.0], [0.9998, 0.9998], [0.0001, 0.0002]]            \n",
       "3      [[1.0013, 1.0014], [-0.0, -0.0], [0.0003, 0.0004], [-0.0, -0.0], [0.0, 0.0], [1.0001, 1.0001], [0.0003, 0.0004], [1.0001, 1.0001], [0.0004, 0.0005]]      \n",
       "4      [[0.9995, 0.9996], [-0.0, -0.0], [-0.0003, -0.0002], [-0.0, -0.0], [0.0, 0.0], [1.0, 1.0], [-0.0003, -0.0002], [1.0, 1.0], [0.0002, 0.0003]]              \n",
       "...                                                                                                                                             ...              \n",
       "10993  [[1.0005, 1.0006], [-0.0, -0.0], [0.0007, 0.0008], [-0.0, -0.0], [0.0, 0.0], [1.0002, 1.0002], [0.0007, 0.0008], [1.0002, 1.0002], [0.0001, 0.0002]]      \n",
       "10994  [[0.9995, 0.9996], [-0.0, -0.0], [-0.0001, 0.0], [-0.0, -0.0], [-0.0, -0.0], [1.0001, 1.0001], [-0.0001, 0.0], [1.0001, 1.0001], [0.0002, 0.0003]]        \n",
       "10995  [[0.9991, 0.9992], [0.0, 0.0], [-0.0005, -0.0004], [0.0, 0.0], [0.0, 0.0], [0.9999, 0.9999], [-0.0005, -0.0004], [0.9999, 0.9999], [-0.0004, -0.0003]]    \n",
       "10996  [[1.0, 1.0001], [-0.0, -0.0], [-0.0011, -0.001], [-0.0, -0.0], [-0.0, -0.0], [1.0, 1.0], [-0.0011, -0.001], [1.0, 1.0], [-0.0004, -0.0003]]               \n",
       "10997  [[1.0006, 1.0007], [-0.0, -0.0], [0.0013, 0.0014], [-0.0, -0.0], [-0.0, -0.0], [0.9998, 0.9998], [0.0013, 0.0014], [0.9998, 0.9998], [0.0005, 0.0006]]    \n",
       "\n",
       "[10998 rows x 4 columns]"
      ]
     },
     "execution_count": 63,
     "metadata": {},
     "output_type": "execute_result"
    }
   ],
   "source": [
    "rohn_bounds_df['matrix'] = [[[round(item,4) for item in item2] for item2 in item3] for item3 in intervals]\n",
    "rohn_bounds_df"
   ]
  },
  {
   "cell_type": "markdown",
   "metadata": {},
   "source": [
    "We take a look at the histogram of eigenvalues of center matrices:"
   ]
  },
  {
   "cell_type": "code",
   "execution_count": 65,
   "metadata": {},
   "outputs": [
    {
     "data": {
      "text/plain": [
       "<matplotlib.axes._subplots.AxesSubplot at 0x19c16cc3948>"
      ]
     },
     "execution_count": 65,
     "metadata": {},
     "output_type": "execute_result"
    },
    {
     "data": {
      "image/png": "[encoded data removed]",
      "text/plain": [
       "<Figure size 432x288 with 1 Axes>"
      ]
     },
     "metadata": {
      "needs_background": "light"
     },
     "output_type": "display_data"
    }
   ],
   "source": [
    "a_c_all_eigs_df.plot.kde()"
   ]
  },
  {
   "cell_type": "markdown",
   "metadata": {},
   "source": [
    "Next we check the scenarios.\n",
    "* find non-contractions"
   ]
  },
  {
   "cell_type": "code",
   "execution_count": null,
   "metadata": {},
   "outputs": [],
   "source": []
  }
 ],
 "metadata": {
  "kernelspec": {
   "display_name": "Python 3",
   "language": "python",
   "name": "python3"
  },
  "language_info": {
   "codemirror_mode": {
    "name": "ipython",
    "version": 3
   },
   "file_extension": ".py",
   "mimetype": "text/x-python",
   "name": "python",
   "nbconvert_exporter": "python",
   "pygments_lexer": "ipython3",
   "version": "3.7.4"
  }
 },
 "nbformat": 4,
 "nbformat_minor": 4
}
