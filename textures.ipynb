{
 "cells": [
  {
   "cell_type": "markdown",
   "metadata": {},
   "source": [
    "This notebook will try to\n",
    "1) approximately reproduce results of https://arxiv.org/pdf/hep-ph/0604193.pdf\n",
    "2) introduce new constraints by contraction bounds\n",
    "\n",
    "The story is as follows: $m_{\\mathrm{diag}} = U^TM_{\\nu} U$, so draw many hermitian (symmetric) mass matrices $M_{\\nu}$, then solve eigenproblem and compare eigenvalues with $m_1, m_2, m_3$ (experiment) and eigenvectors $M_1, M_2, M_3$ with columns of mixing matrix $U$ (again experiment). First we stop at this point, hence we plot those that fit to experimental values. In the next step, we impose additionaly the contraction constraint on $U$, hoping that some new limits come into play."
   ]
  },
  {
   "cell_type": "markdown",
   "metadata": {},
   "source": [
    "We will compare results with experimental mixing matrix U given by"
   ]
  },
  {
   "cell_type": "code",
   "execution_count": 1,
   "metadata": {},
   "outputs": [],
   "source": [
    "U_mix = [[[0.801,0.845],[0.513,0.579],[0.143,0.156]],[[0.233,0.507],[0.461,0.694],[0.631,0.778]],[[0.261,0.526],[0.471,0.701],[0.611,0.761]]]\n",
    "# U_mix = [[[x[i][0]-0.5, x[i][1]+0.5] for i in range(0,3)] for x in U_mix]"
   ]
  },
  {
   "cell_type": "markdown",
   "metadata": {},
   "source": [
    "and with neutrino masses bounded by $m_1<2.2$ and $|m_i-m_j|<0.05$, hence $m_2-m_1<0.05$, $m_3-m_1<0.05$ and $m_3-m_2<0.05$."
   ]
  },
  {
   "cell_type": "markdown",
   "metadata": {},
   "source": [
    "First we draw symmetric mass matrices $M_{\\nu}$"
   ]
  },
  {
   "cell_type": "code",
   "execution_count": 3,
   "metadata": {},
   "outputs": [],
   "source": [
    "import numpy as np\n",
    "from tqdm import tqdm\n",
    "import matplotlib.pyplot as plt\n",
    "from mpl_toolkits.mplot3d import Axes3D"
   ]
  },
  {
   "cell_type": "code",
   "execution_count": 9,
   "metadata": {},
   "outputs": [
    {
     "name": "stderr",
     "output_type": "stream",
     "text": [
      "100%|██████████| 99999/99999 [00:14<00:00, 6857.66it/s]\n"
     ]
    },
    {
     "data": {
      "text/plain": [
       "[<matplotlib.lines.Line2D at 0x290df4b4648>]"
      ]
     },
     "execution_count": 9,
     "metadata": {},
     "output_type": "execute_result"
    },
    {
     "data": {
      "image/png": "[encoded data removed]",
      "text/plain": [
       "<Figure size 432x288 with 1 Axes>"
      ]
     },
     "metadata": {
      "needs_background": "light"
     },
     "output_type": "display_data"
    }
   ],
   "source": [
    "good_mat = [] # list to store good mass matrices\n",
    "\n",
    "n=100000 # number of matrices drawn\n",
    "bound = 0.25 # abs of lower and upper limits of elements of M_mass\n",
    "for i in tqdm(range(1,n)):\n",
    "    M_mass = (np.random.rand(3,3)-2*bound)/2\n",
    "    M_mass = 1/2*(M_mass+np.transpose(M_mass))\n",
    "    m_vals, m_vecs = np.linalg.eig(M_mass)\n",
    "    \n",
    "    # now there comes quite heavy preparation to order eigenfeatures\n",
    "    eigs = [[m_vals[i],m_vecs[i]] for i in range(0,3)]\n",
    "    eigs = sorted(eigs, key=lambda x: x[1][0], reverse=True)\n",
    "    m_vals = [x[0] for x in eigs]\n",
    "    m_vecs = [x[1] for x in eigs]\n",
    "    \n",
    "    if (0<m_vals[0]<2.2 and 0<m_vals[1]<2.2 and 0<m_vals[2]<2.2 and \n",
    "        (U_mix[0][0][0] < m_vecs[0][0] < U_mix[0][0][1] or  -U_mix[0][0][1]< m_vecs[0][0] < -U_mix[0][0][0]) and\n",
    "        (U_mix[0][1][0] < m_vecs[0][1] < U_mix[0][1][1] or -U_mix[0][1][1] < m_vecs[0][1] < -U_mix[0][1][0]) and\n",
    "        (U_mix[0][2][0] < m_vecs[0][2] < U_mix[0][2][1] or -U_mix[0][2][1] < m_vecs[0][2] < -U_mix[0][2][0]) and \n",
    "        (U_mix[1][0][0] < m_vecs[1][0] < U_mix[1][0][1] or -U_mix[1][0][1] < m_vecs[1][0] < -U_mix[1][0][0]) and\n",
    "        (U_mix[1][1][0] < m_vecs[1][1] < U_mix[1][1][1] or -U_mix[1][1][1] < m_vecs[1][1] < -U_mix[1][1][0]) and \n",
    "        (U_mix[1][2][0] < m_vecs[1][2] < U_mix[1][2][1] or -U_mix[1][2][1] < m_vecs[1][2] < -U_mix[1][2][0]) and\n",
    "        (U_mix[2][0][0] < m_vecs[2][0] < U_mix[2][0][1] or -U_mix[2][0][1] < m_vecs[2][0] < -U_mix[2][0][0]) and \n",
    "        (U_mix[2][1][0] < m_vecs[2][1] < U_mix[2][1][1] or -U_mix[2][1][1] < m_vecs[2][1] < -U_mix[2][1][0]) and\n",
    "        (U_mix[2][2][0] < m_vecs[2][2] < U_mix[2][2][1] or -U_mix[2][2][1] < m_vecs[2][2] < -U_mix[2][2][0])): \n",
    "        \n",
    "        good_mat.append(M_mass)\n",
    "        \n",
    "# good_mat\n",
    "# fig = plt.figure()\n",
    "# ax = Axes3D(fig)\n",
    "\n",
    "# xs = [x[0][0] for x in good_mat]\n",
    "# ys = [x[0][1] for x in good_mat]\n",
    "# zs = [x[0][2] for x in good_mat]\n",
    "# ax.scatter(xs, ys, zs)\n",
    "\n",
    "# plt.show()\n",
    "\n",
    "plt.plot([x[0][0] for x in good_mat], [x[0][1] for x in good_mat], '.')"
   ]
  },
  {
   "cell_type": "code",
   "execution_count": 10,
   "metadata": {},
   "outputs": [
    {
     "data": {
      "text/plain": [
       "[<matplotlib.lines.Line2D at 0x290df4fb748>]"
      ]
     },
     "execution_count": 10,
     "metadata": {},
     "output_type": "execute_result"
    },
    {
     "data": {
      "image/png": "[encoded data removed]",
      "text/plain": [
       "<Figure size 432x288 with 1 Axes>"
      ]
     },
     "metadata": {
      "needs_background": "light"
     },
     "output_type": "display_data"
    }
   ],
   "source": [
    "plt.plot([x[0][0] for x in good_mat], [x[0][2] for x in good_mat], 'o')"
   ]
  },
  {
   "cell_type": "code",
   "execution_count": 32,
   "metadata": {},
   "outputs": [
    {
     "data": {
      "text/plain": [
       "[array([[ 0.09186268,  0.07605638, -0.03945783],\n",
       "        [ 0.07605638,  0.09444363, -0.07922971],\n",
       "        [-0.03945783, -0.07922971,  0.23996788]]),\n",
       " array([[ 0.20374471, -0.0638441 ,  0.00032986],\n",
       "        [-0.0638441 ,  0.1242316 , -0.06891308],\n",
       "        [ 0.00032986, -0.06891308,  0.17535826]]),\n",
       " array([[ 0.2460505 , -0.04209549, -0.09398264],\n",
       "        [-0.04209549,  0.07197678,  0.05909553],\n",
       "        [-0.09398264,  0.05909553,  0.11104045]]),\n",
       " array([[ 0.12092224, -0.11118424,  0.00961354],\n",
       "        [-0.11118424,  0.2445155 ,  0.11461975],\n",
       "        [ 0.00961354,  0.11461975,  0.17261148]])]"
      ]
     },
     "execution_count": 32,
     "metadata": {},
     "output_type": "execute_result"
    }
   ],
   "source": [
    "good_mat"
   ]
  },
  {
   "cell_type": "code",
   "execution_count": null,
   "metadata": {},
   "outputs": [],
   "source": []
  }
 ],
 "metadata": {
  "kernelspec": {
   "display_name": "Python 3",
   "language": "python",
   "name": "python3"
  },
  "language_info": {
   "codemirror_mode": {
    "name": "ipython",
    "version": 3
   },
   "file_extension": ".py",
   "mimetype": "text/x-python",
   "name": "python",
   "nbconvert_exporter": "python",
   "pygments_lexer": "ipython3",
   "version": "3.7.4"
  }
 },
 "nbformat": 4,
 "nbformat_minor": 4
}
